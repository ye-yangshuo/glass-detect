{
 "cells": [
  {
   "cell_type": "code",
   "execution_count": 2,
   "metadata": {},
   "outputs": [],
   "source": [
    "import cv2\n",
    "import time\n",
    "import os"
   ]
  },
  {
   "cell_type": "markdown",
   "metadata": {},
   "source": [
    "    \"\"\"\n",
    "    打开摄像头，每隔2秒拍摄一张照片，并将其保存在指定的文件夹中。\n",
    "    按下'p'键暂停，按下'q'键继续。\n",
    "    \n",
    "    参数:\n",
    "    - folder_path: 照片要保存到的文件夹路径。\n",
    "    \"\"\""
   ]
  },
  {
   "cell_type": "code",
   "execution_count": null,
   "metadata": {},
   "outputs": [],
   "source": [
    "\n",
    "def take_snapshots(folder_path):\n",
    "\n",
    "    \n",
    "    # 检查指定的文件夹是否存在，如果不存在则创建它\n",
    "    if not os.path.exists(folder_path):\n",
    "        os.makedirs(folder_path)\n",
    "    \n",
    "    # 打开摄像头\n",
    "    cap = cv2.VideoCapture(0)\n",
    "    \n",
    "    snapshot_count = 0\n",
    "    while True:\n",
    "        # 从摄像头捕获每一帧\n",
    "        ret, frame = cap.read()\n",
    "        \n",
    "        # 检查是否成功捕获帧\n",
    "        if not ret:\n",
    "            print(\"无法从摄像头获取帧。\")\n",
    "            break\n",
    "        \n",
    "        # 将帧保存到指定文件夹\n",
    "        snapshot_path = os.path.join(folder_path, f\"snapshot_{snapshot_count}.jpg\")\n",
    "        cv2.imwrite(snapshot_path, frame)\n",
    "        \n",
    "        # 增加快照计数\n",
    "        snapshot_count += 1\n",
    "        \n",
    "        # 显示帧\n",
    "        cv2.imshow('摄像头', frame)\n",
    "        \n",
    "        # 检查'p'或'q'键是否被按下\n",
    "        key = cv2.waitKey(2000) & 0xFF\n",
    "        if key == ord('q'):\n",
    "            print(\"已暂停。按'w'继续。\")\n",
    "            while True:\n",
    "                key = cv2.waitKey(100) & 0xFF\n",
    "                if key == ord('w'):\n",
    "                    break\n",
    "            continue\n",
    "        elif key == ord('w'):\n",
    "            break\n",
    "        if key == ord('e'):\n",
    "            return\n",
    "    \n",
    "    # 完成所有操作后，释放摄像头\n",
    "    cap.release()\n",
    "    cv2.destroyAllWindows()"
   ]
  },
  {
   "cell_type": "code",
   "execution_count": null,
   "metadata": {},
   "outputs": [],
   "source": [
    "take_snapshots('./imgs')"
   ]
  }
 ],
 "metadata": {
  "kernelspec": {
   "display_name": "torch",
   "language": "python",
   "name": "python3"
  },
  "language_info": {
   "codemirror_mode": {
    "name": "ipython",
    "version": 3
   },
   "file_extension": ".py",
   "mimetype": "text/x-python",
   "name": "python",
   "nbconvert_exporter": "python",
   "pygments_lexer": "ipython3",
   "version": "3.10.14"
  }
 },
 "nbformat": 4,
 "nbformat_minor": 2
}
